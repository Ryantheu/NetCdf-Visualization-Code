{
 "cells": [
  {
   "cell_type": "code",
   "execution_count": 1,
   "metadata": {},
   "outputs": [],
   "source": [
    "import numpy as np\n",
    "import pandas as pd\n",
    "from matplotlib import pyplot as plt\n",
    "from cartopy import crs as ccrs\n",
    "from netCDF4 import Dataset\n",
    "import xarray as xr\n",
    "from cartopy.feature import NaturalEarthFeature\n",
    "import warnings\n",
    "import os\n",
    "import sys\n",
    "\n",
    "warnings.filterwarnings(\"ignore\")\n",
    "\n",
    "%matplotlib inline\n",
    "\n",
    "# Options to print figures into notebook/increase size\n",
    "plt.rcParams['figure.figsize'] = [12, 6]\n",
    "plt.rcParams.update({'font.size': 16})\n",
    "\n",
    "# An option to keep numpy from printing in scientific notation by default:\n",
    "np.set_printoptions(suppress=True)"
   ]
  },
  {
   "cell_type": "code",
   "execution_count": 2,
   "metadata": {},
   "outputs": [],
   "source": [
    "def get_product(file_list, data_field, multiplier, color_range, current_folder):\n",
    "    data_list, lat_list, long_list = [], [], []\n",
    "    for file in file_list:\n",
    "        fname='C:\\\\Users\\\\Ryan\\\\Desktop\\\\NOAA Projects\\\\NOAA Python Project\\\\Python Test\\\\Test\\\\' + current_folder + '\\\\' + file\n",
    "        file_id = Dataset(fname)\n",
    "    #     tester = file_id.groups['PRODUCT'].variables.keys()\n",
    "    #     print(tester)\n",
    "        data = file_id.groups['PRODUCT'].variables[data_field][:,:]\n",
    "        print(type(data))\n",
    "        #print(pd.DataFrame(data[0]))\n",
    "        #print(pd.DataFrame(file_id.groups['PRODUCT'].variables['latitude'][:,:][0]))\n",
    "        lat = pd.DataFrame(file_id.groups['PRODUCT'].variables['latitude'][:,:][0])\n",
    "        #print(pd.DataFrame(file_id.groups['PRODUCT'].variables['longitude'][:,:][0]))\n",
    "        long = pd.DataFrame(file_id.groups['PRODUCT'].variables['longitude'][:,:][0])\n",
    "        #print(long.shape)\n",
    "        lat_break = lat.stack()[(lat.stack() > -92) & (lat.stack() < -59)]\n",
    "        #long = long.stack()[(long.stack() > 30) & (long.stack() < 51)]\n",
    "        #print(lat.to_frame())\n",
    "        #print(long.to_frame())\n",
    "        #sys.exit(0)\n",
    "#         print(lat.index.get_level_values(0).max())\n",
    "#         print(lat.index.get_level_values(0).min())\n",
    "#         print(lat.index.get_level_values(1).max())\n",
    "#         print(lat.index.get_level_values(1).min())\n",
    "        max_y = lat_break.index.get_level_values(0).max()\n",
    "        min_y = lat_break.index.get_level_values(0).min()\n",
    "        max_x = lat_break.index.get_level_values(1).max()\n",
    "        min_x = lat_break.index.get_level_values(1).min()\n",
    "        #max_lat = max(lat.index.get_level_values(0).max(), lat.index.get_level_values(1).max())\n",
    "        #min_lat = min(lat.index.get_level_values(0).min(), lat.index.get_level_values(1).min())\n",
    "#         print(' ')\n",
    "#         print(long.index.get_level_values(0).max())\n",
    "#         print(long.index.get_level_values(0).min())\n",
    "#         print(long.index.get_level_values(1).max())\n",
    "#         print(long.index.get_level_values(1).min())\n",
    "#         max_lat = max(long.index.get_level_values(0).max(), long.index.get_level_values(1).max())\n",
    "#         min_lat = min(long.index.get_level_values(0).min(), long.index.get_level_values(1).min())\n",
    "        \n",
    "        #sys.exit(0)\n",
    "        data = pd.DataFrame(data[0])\n",
    "        print(min_y)\n",
    "        print(max_y)\n",
    "        \n",
    "        \n",
    "        print(min_x)\n",
    "        print(max_x)\n",
    "        data = data.iloc[min_y:max_y]\n",
    "        data = data.iloc[:,min_x:max_x]\n",
    "        lat = lat.iloc[min_y:max_y]\n",
    "        lat = lat.iloc[:,min_x:max_x]\n",
    "        long = long.iloc[min_y:max_y]\n",
    "        long = long.iloc[:,min_x:max_x]\n",
    "        data = np.ma.core.MaskedArray(data)\n",
    "        lat = np.ma.core.MaskedArray(lat)\n",
    "        long = np.ma.core.MaskedArray(long)\n",
    "        \n",
    "        \n",
    "        \n",
    "        \n",
    "\n",
    "        xmin,xmax,ymin,ymax = -92, -59, 30, 51\n",
    "        data_list.append(data * multiplier)\n",
    "        #lat_list.append(file_id.groups['PRODUCT'].variables['latitude'][:,:])\n",
    "        #long_list.append(file_id.groups['PRODUCT'].variables['longitude'][:,:])\n",
    "        lat_list.append(lat)\n",
    "        long_list.append(long)\n",
    "       \n",
    "    levs = np.arange(color_range[0], color_range[1], color_range[2])\n",
    "    return long_list, lat_list, data_list, levs, data_field"
   ]
  },
  {
   "cell_type": "code",
   "execution_count": 28,
   "metadata": {
    "scrolled": true
   },
   "outputs": [],
   "source": [
    "def plt_map(long_list, lat_list, data_list, levs, data_field, colorbar_label, current_folder):\n",
    "    # Using cartopy, create the map projection and plot the data\n",
    "    to_proj=ccrs.PlateCarree()\n",
    "    ax = plt.axes(projection=to_proj)\n",
    "    \n",
    "    #projection=to_proj\n",
    "    ax.coastlines('50m')\n",
    "    ax.gridlines(draw_labels=True, linewidth=.5, color='grey', linestyle='--')\n",
    "    ax.xlabels_top = False\n",
    "    ax.ylabels_left = False\n",
    "    states = NaturalEarthFeature(category=\"cultural\", scale=\"50m\",\n",
    "                                 facecolor=\"none\",\n",
    "                                 name=\"admin_1_states_provinces_shp\")\n",
    "    ax.add_feature(states, linewidth=.5, edgecolor=\"black\")# Can change color scheme using the get_cmap command\n",
    "    for i, n in enumerate(data_list):\n",
    "        x1 = plt.contourf(long_list[i], lat_list[i], data_list[i], levs, transform=to_proj, cmap=plt.get_cmap(\"rainbow\"))\n",
    "    \n",
    "    plt.colorbar(x1, orientation=\"horizontal\", fraction=0.05).set_label(colorbar_label)\n",
    "\n",
    "    # The 4 corners from the 3 km WRF domain are (latitude, longitude) = \n",
    "    # (31.612877, -87.34198), (31.612877, -64.65802), (50.870567, -91.42612) \n",
    "    # and (50.870567, -60.573883).\n",
    "    xmin,xmax,ymin,ymax = -92, -59, 30, 51\n",
    "    xmin,xmax,ymin,ymax = -100, 0, -100, -25\n",
    "    plt.axis([xmin,xmax,ymin,ymax])\n",
    "    plt.title(current_folder + ' ' + data_field.replace('_', ' ').title(), y=1.1)\n",
    "    output_figure = plt.gcf()\n",
    "    plt.show()\n",
    "    output_figure.savefig('C:\\\\Users\\\\Ryan\\\\Desktop\\\\NOAA Projects\\\\NOAA Python Project\\\\Python Test\\\\End Product\\\\' + current_folder + ' ' + data_field.replace('_', ' ').title() + '.png')"
   ]
  },
  {
   "cell_type": "code",
   "execution_count": 29,
   "metadata": {},
   "outputs": [],
   "source": [
    "def run_program(file_list, data_field, multiplier, color_range, colorbar_label, current_folder):\n",
    "    long_list, lat_list, data_list, levs, data_field = get_product(file_list, data_field, multiplier, color_range, current_folder)\n",
    "    plt_map(long_list, lat_list, data_list, levs, data_field, colorbar_label, current_folder)"
   ]
  },
  {
   "cell_type": "code",
   "execution_count": 30,
   "metadata": {
    "scrolled": false
   },
   "outputs": [
    {
     "name": "stdout",
     "output_type": "stream",
     "text": [
      "<class 'numpy.ma.core.MaskedArray'>\n",
      "0\n",
      "308\n",
      "0\n",
      "449\n",
      "<class 'numpy.ma.core.MaskedArray'>\n",
      "0\n",
      "309\n",
      "0\n",
      "449\n"
     ]
    },
    {
     "data": {
      "image/png": "[encoded data removed]",
      "text/plain": [
       "<Figure size 432x288 with 2 Axes>"
      ]
     },
     "metadata": {},
     "output_type": "display_data"
    }
   ],
   "source": [
    "for folder_name in os.listdir('C:\\\\Users\\\\Ryan\\\\Desktop\\\\NOAA Projects\\\\NOAA Python Project\\\\Python Test\\\\Test\\\\'):\n",
    "    if '-' in  folder_name:\n",
    "        current_folder = folder_name\n",
    "        aer_list, co_list, hcho_list, no2_list = [], [], [], []\n",
    "        for x in os.listdir('C:\\\\Users\\\\Ryan\\\\Desktop\\\\NOAA Projects\\\\NOAA Python Project\\\\Python Test\\\\Test\\\\' + current_folder + '\\\\'):\n",
    "            name = x.lower()\n",
    "            if 'aer' in name:\n",
    "                aer_list.append(x)\n",
    "            elif 'co' in name:\n",
    "                co_list.append(x)\n",
    "            elif 'hcho' in name:\n",
    "                hcho_list.append(x)\n",
    "            elif 'no2' in name:\n",
    "                no2_list.append(x)\n",
    "        if aer_list:\n",
    "            pass\n",
    "            data_field = 'aerosol_index_354_388'\n",
    "            multiplier = 1\n",
    "            color_range = [0, 4.5, .5]\n",
    "            colorbar_label = 'Aerosol Index'\n",
    "            run_program(aer_list, data_field, multiplier, color_range, colorbar_label, current_folder)\n",
    "            data_field = 'aerosol_index_340_380'\n",
    "            run_program(aer_list, data_field, multiplier, color_range, colorbar_label, current_folder)\n",
    "        if co_list:\n",
    "            pass\n",
    "            data_field = 'carbonmonoxide_total_column'\n",
    "            multiplier = 60.22141\n",
    "            color_range = [0, 3.5, .5]\n",
    "            colorbar_label = '10¹⁸ Molecules cm⁻²'\n",
    "            run_program(co_list, data_field, multiplier, color_range, colorbar_label, current_folder)      \n",
    "        if hcho_list:\n",
    "            pass\n",
    "            data_field = 'formaldehyde_tropospheric_vertical_column'\n",
    "            multiplier = 6.022141 * 2241.15\n",
    "            color_range = [0, 50, 5]\n",
    "            colorbar_label = '10¹⁹ Molecules cm⁻²'\n",
    "            run_program(hcho_list, data_field, multiplier, color_range, colorbar_label, current_folder)\n",
    "        if no2_list:\n",
    "            data_field = 'nitrogendioxide_tropospheric_column'\n",
    "            multiplier = 60221.41\n",
    "            color_range = [0, 10, 1]\n",
    "            colorbar_label = '10¹⁵ Molecules cm⁻²'\n",
    "            run_program(no2_list, data_field, multiplier, color_range, colorbar_label, current_folder)\n"
   ]
  },
  {
   "cell_type": "code",
   "execution_count": 12,
   "metadata": {},
   "outputs": [],
   "source": [
    "# aerosol_index_354_388, aerosol_index_340_380, nitrogendioxide_tropospheric_column, formaldehyde_tropospheric_vertical_column, carbonmonoxide_total_column "
   ]
  },
  {
   "cell_type": "code",
   "execution_count": null,
   "metadata": {},
   "outputs": [],
   "source": []
  }
 ],
 "metadata": {
  "kernelspec": {
   "display_name": "Python 3",
   "language": "python",
   "name": "python3"
  },
  "language_info": {
   "codemirror_mode": {
    "name": "ipython",
    "version": 3
   },
   "file_extension": ".py",
   "mimetype": "text/x-python",
   "name": "python",
   "nbconvert_exporter": "python",
   "pygments_lexer": "ipython3",
   "version": "3.6.5"
  }
 },
 "nbformat": 4,
 "nbformat_minor": 2
}
